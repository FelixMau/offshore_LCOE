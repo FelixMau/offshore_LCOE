{
 "cells": [
  {
   "cell_type": "code",
   "execution_count": 1,
   "metadata": {
    "collapsed": true,
    "ExecuteTime": {
     "end_time": "2023-05-18T19:12:35.563496332Z",
     "start_time": "2023-05-18T19:12:35.246531622Z"
    }
   },
   "outputs": [],
   "source": [
    "# Import Meteostat library and dependencies\n",
    "from datetime import datetime\n",
    "import geopandas as gpd\n",
    "from meteostat import Point, Daily\n",
    "import pandas as pd\n"
   ]
  },
  {
   "cell_type": "code",
   "execution_count": 2,
   "outputs": [],
   "source": [
    "\n",
    "# Set time period\n",
    "start = datetime(2018, 1, 1)\n",
    "end = datetime(2018, 12, 31)\n"
   ],
   "metadata": {
    "collapsed": false,
    "ExecuteTime": {
     "end_time": "2023-05-18T19:12:35.568049361Z",
     "start_time": "2023-05-18T19:12:35.567034954Z"
    }
   }
  },
  {
   "cell_type": "code",
   "execution_count": 3,
   "outputs": [],
   "source": [
    "\n",
    "vancouver = Point(55.765536, 7.75217)\n",
    "\n",
    "# Get daily data for 2018\n",
    "data = Daily(vancouver, start, end)\n",
    "data = data.fetch()"
   ],
   "metadata": {
    "collapsed": false,
    "ExecuteTime": {
     "end_time": "2023-05-18T19:12:35.603250473Z",
     "start_time": "2023-05-18T19:12:35.567755829Z"
    }
   }
  },
  {
   "cell_type": "code",
   "execution_count": null,
   "outputs": [],
   "source": [
    "\n",
    "data = gpd.read_file(\"../data/lan_lcv_ovw.tsv\")\n",
    "\n",
    "\n",
    "filtered_gdf = data[data['geo'].str.contains('DE')]\n",
    "\n",
    "print(filtered_gdf.head())\n"
   ],
   "metadata": {
    "collapsed": false
   }
  }
 ],
 "metadata": {
  "kernelspec": {
   "display_name": "Python 3",
   "language": "python",
   "name": "python3"
  },
  "language_info": {
   "codemirror_mode": {
    "name": "ipython",
    "version": 2
   },
   "file_extension": ".py",
   "mimetype": "text/x-python",
   "name": "python",
   "nbconvert_exporter": "python",
   "pygments_lexer": "ipython2",
   "version": "2.7.6"
  }
 },
 "nbformat": 4,
 "nbformat_minor": 0
}
